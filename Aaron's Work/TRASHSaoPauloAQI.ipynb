{
 "metadata": {
  "language_info": {
   "codemirror_mode": {
    "name": "ipython",
    "version": 3
   },
   "file_extension": ".py",
   "mimetype": "text/x-python",
   "name": "python",
   "nbconvert_exporter": "python",
   "pygments_lexer": "ipython3",
   "version": 3
  },
  "orig_nbformat": 2,
  "kernelspec": {
   "name": "python_defaultSpec_1596076636445",
   "display_name": "Python 3.7.6 64-bit ('base': conda)"
  }
 },
 "nbformat": 4,
 "nbformat_minor": 2,
 "cells": [
  {
   "cell_type": "code",
   "execution_count": 25,
   "metadata": {},
   "outputs": [],
   "source": [
    "import pandas as pd\n",
    "import csv\n",
    "import numpy as np\n",
    "import matplotlib.pyplot as plt\n",
    "from matplotlib.patches import Patch"
   ]
  },
  {
   "cell_type": "code",
   "execution_count": 35,
   "metadata": {},
   "outputs": [
    {
     "output_type": "execute_result",
     "data": {
      "text/plain": "           date  pm25  pm10  o3  no2  so2  co\n0      1/1/2014              17    6        4\n1      1/2/2014    43        24   13        5\n2      1/3/2014    32        26   16        5\n3      1/4/2014    41        25   10        4\n4      1/5/2014    38        25    8        4\n...         ...   ...   ...  ..  ...  ...  ..\n2361  7/20/2020    64    43  20   18        9\n2362  7/21/2020    70    51  18   23       11\n2363  7/22/2020    84    59  33   26       11\n2364  7/23/2020   102    46  35   26        8\n2365  7/24/2020    90                        \n\n[2366 rows x 7 columns]",
      "text/html": "<div>\n<style scoped>\n    .dataframe tbody tr th:only-of-type {\n        vertical-align: middle;\n    }\n\n    .dataframe tbody tr th {\n        vertical-align: top;\n    }\n\n    .dataframe thead th {\n        text-align: right;\n    }\n</style>\n<table border=\"1\" class=\"dataframe\">\n  <thead>\n    <tr style=\"text-align: right;\">\n      <th></th>\n      <th>date</th>\n      <th>pm25</th>\n      <th>pm10</th>\n      <th>o3</th>\n      <th>no2</th>\n      <th>so2</th>\n      <th>co</th>\n    </tr>\n  </thead>\n  <tbody>\n    <tr>\n      <th>0</th>\n      <td>1/1/2014</td>\n      <td></td>\n      <td></td>\n      <td>17</td>\n      <td>6</td>\n      <td></td>\n      <td>4</td>\n    </tr>\n    <tr>\n      <th>1</th>\n      <td>1/2/2014</td>\n      <td>43</td>\n      <td></td>\n      <td>24</td>\n      <td>13</td>\n      <td></td>\n      <td>5</td>\n    </tr>\n    <tr>\n      <th>2</th>\n      <td>1/3/2014</td>\n      <td>32</td>\n      <td></td>\n      <td>26</td>\n      <td>16</td>\n      <td></td>\n      <td>5</td>\n    </tr>\n    <tr>\n      <th>3</th>\n      <td>1/4/2014</td>\n      <td>41</td>\n      <td></td>\n      <td>25</td>\n      <td>10</td>\n      <td></td>\n      <td>4</td>\n    </tr>\n    <tr>\n      <th>4</th>\n      <td>1/5/2014</td>\n      <td>38</td>\n      <td></td>\n      <td>25</td>\n      <td>8</td>\n      <td></td>\n      <td>4</td>\n    </tr>\n    <tr>\n      <th>...</th>\n      <td>...</td>\n      <td>...</td>\n      <td>...</td>\n      <td>...</td>\n      <td>...</td>\n      <td>...</td>\n      <td>...</td>\n    </tr>\n    <tr>\n      <th>2361</th>\n      <td>7/20/2020</td>\n      <td>64</td>\n      <td>43</td>\n      <td>20</td>\n      <td>18</td>\n      <td></td>\n      <td>9</td>\n    </tr>\n    <tr>\n      <th>2362</th>\n      <td>7/21/2020</td>\n      <td>70</td>\n      <td>51</td>\n      <td>18</td>\n      <td>23</td>\n      <td></td>\n      <td>11</td>\n    </tr>\n    <tr>\n      <th>2363</th>\n      <td>7/22/2020</td>\n      <td>84</td>\n      <td>59</td>\n      <td>33</td>\n      <td>26</td>\n      <td></td>\n      <td>11</td>\n    </tr>\n    <tr>\n      <th>2364</th>\n      <td>7/23/2020</td>\n      <td>102</td>\n      <td>46</td>\n      <td>35</td>\n      <td>26</td>\n      <td></td>\n      <td>8</td>\n    </tr>\n    <tr>\n      <th>2365</th>\n      <td>7/24/2020</td>\n      <td>90</td>\n      <td></td>\n      <td></td>\n      <td></td>\n      <td></td>\n      <td></td>\n    </tr>\n  </tbody>\n</table>\n<p>2366 rows × 7 columns</p>\n</div>"
     },
     "metadata": {},
     "execution_count": 35
    }
   ],
   "source": [
    "filepath = \"Resources/SaoPauloBrazilAQI.csv\"\n",
    "SaoAQIDF = pd.read_csv(filepath , delimiter=\",\")\n",
    "SaoAQIDF"
   ]
  },
  {
   "cell_type": "code",
   "execution_count": 37,
   "metadata": {},
   "outputs": [
    {
     "output_type": "error",
     "ename": "ValueError",
     "evalue": "could not convert string to float: ",
     "traceback": [
      "\u001b[1;31m---------------------------------------------------------------------------\u001b[0m",
      "\u001b[1;31mValueError\u001b[0m                                Traceback (most recent call last)",
      "\u001b[1;32m<ipython-input-37-be10d98ae5bd>\u001b[0m in \u001b[0;36m<module>\u001b[1;34m\u001b[0m\n\u001b[0;32m      1\u001b[0m \u001b[0mSaoAQIDF\u001b[0m\u001b[1;33m[\u001b[0m\u001b[1;34m\"date\"\u001b[0m\u001b[1;33m]\u001b[0m \u001b[1;33m=\u001b[0m \u001b[0mSaoAQIDF\u001b[0m\u001b[1;33m[\u001b[0m\u001b[1;34m\"date\"\u001b[0m\u001b[1;33m]\u001b[0m\u001b[1;33m.\u001b[0m\u001b[0mastype\u001b[0m\u001b[1;33m(\u001b[0m\u001b[0mstr\u001b[0m\u001b[1;33m)\u001b[0m\u001b[1;33m\u001b[0m\u001b[1;33m\u001b[0m\u001b[0m\n\u001b[1;32m----> 2\u001b[1;33m \u001b[0mSaoAQIDF\u001b[0m\u001b[1;33m[\u001b[0m\u001b[1;34m\" pm25\"\u001b[0m\u001b[1;33m]\u001b[0m \u001b[1;33m=\u001b[0m \u001b[0mSaoAQIDF\u001b[0m\u001b[1;33m[\u001b[0m\u001b[1;34m\" pm25\"\u001b[0m\u001b[1;33m]\u001b[0m\u001b[1;33m.\u001b[0m\u001b[0mastype\u001b[0m\u001b[1;33m(\u001b[0m\u001b[0mfloat\u001b[0m\u001b[1;33m)\u001b[0m\u001b[1;33m\u001b[0m\u001b[1;33m\u001b[0m\u001b[0m\n\u001b[0m\u001b[0;32m      3\u001b[0m \u001b[0mSaoAQIDF\u001b[0m\u001b[1;33m[\u001b[0m\u001b[1;34m\" pm10\"\u001b[0m\u001b[1;33m]\u001b[0m \u001b[1;33m=\u001b[0m \u001b[0mSaoAQIDF\u001b[0m\u001b[1;33m[\u001b[0m\u001b[1;34m\" pm10\"\u001b[0m\u001b[1;33m]\u001b[0m\u001b[1;33m.\u001b[0m\u001b[0mastype\u001b[0m\u001b[1;33m(\u001b[0m\u001b[0mfloat\u001b[0m\u001b[1;33m)\u001b[0m\u001b[1;33m\u001b[0m\u001b[1;33m\u001b[0m\u001b[0m\n\u001b[0;32m      4\u001b[0m \u001b[0mSaoAQIDF\u001b[0m\u001b[1;33m[\u001b[0m\u001b[1;33m[\u001b[0m\u001b[1;34m\"month\"\u001b[0m\u001b[1;33m,\u001b[0m\u001b[1;34m\"day\"\u001b[0m\u001b[1;33m,\u001b[0m\u001b[1;34m\"year\"\u001b[0m\u001b[1;33m]\u001b[0m\u001b[1;33m]\u001b[0m \u001b[1;33m=\u001b[0m \u001b[0mSaoAQIDF\u001b[0m\u001b[1;33m[\u001b[0m\u001b[1;34m\"date\"\u001b[0m\u001b[1;33m]\u001b[0m\u001b[1;33m.\u001b[0m\u001b[0mstr\u001b[0m\u001b[1;33m.\u001b[0m\u001b[0msplit\u001b[0m\u001b[1;33m(\u001b[0m\u001b[1;34m\"/\"\u001b[0m\u001b[1;33m,\u001b[0m \u001b[0mn\u001b[0m\u001b[1;33m=\u001b[0m\u001b[1;36m2\u001b[0m\u001b[1;33m,\u001b[0m \u001b[0mexpand\u001b[0m\u001b[1;33m=\u001b[0m\u001b[1;32mTrue\u001b[0m\u001b[1;33m)\u001b[0m\u001b[1;33m\u001b[0m\u001b[1;33m\u001b[0m\u001b[0m\n\u001b[0;32m      5\u001b[0m \u001b[0mSaoAQIDF\u001b[0m\u001b[1;33m\u001b[0m\u001b[1;33m\u001b[0m\u001b[0m\n",
      "\u001b[1;32m~\\anaconda3\\lib\\site-packages\\pandas\\core\\generic.py\u001b[0m in \u001b[0;36mastype\u001b[1;34m(self, dtype, copy, errors)\u001b[0m\n\u001b[0;32m   5696\u001b[0m         \u001b[1;32melse\u001b[0m\u001b[1;33m:\u001b[0m\u001b[1;33m\u001b[0m\u001b[1;33m\u001b[0m\u001b[0m\n\u001b[0;32m   5697\u001b[0m             \u001b[1;31m# else, only a single dtype is given\u001b[0m\u001b[1;33m\u001b[0m\u001b[1;33m\u001b[0m\u001b[1;33m\u001b[0m\u001b[0m\n\u001b[1;32m-> 5698\u001b[1;33m             \u001b[0mnew_data\u001b[0m \u001b[1;33m=\u001b[0m \u001b[0mself\u001b[0m\u001b[1;33m.\u001b[0m\u001b[0m_data\u001b[0m\u001b[1;33m.\u001b[0m\u001b[0mastype\u001b[0m\u001b[1;33m(\u001b[0m\u001b[0mdtype\u001b[0m\u001b[1;33m=\u001b[0m\u001b[0mdtype\u001b[0m\u001b[1;33m,\u001b[0m \u001b[0mcopy\u001b[0m\u001b[1;33m=\u001b[0m\u001b[0mcopy\u001b[0m\u001b[1;33m,\u001b[0m \u001b[0merrors\u001b[0m\u001b[1;33m=\u001b[0m\u001b[0merrors\u001b[0m\u001b[1;33m)\u001b[0m\u001b[1;33m\u001b[0m\u001b[1;33m\u001b[0m\u001b[0m\n\u001b[0m\u001b[0;32m   5699\u001b[0m             \u001b[1;32mreturn\u001b[0m \u001b[0mself\u001b[0m\u001b[1;33m.\u001b[0m\u001b[0m_constructor\u001b[0m\u001b[1;33m(\u001b[0m\u001b[0mnew_data\u001b[0m\u001b[1;33m)\u001b[0m\u001b[1;33m.\u001b[0m\u001b[0m__finalize__\u001b[0m\u001b[1;33m(\u001b[0m\u001b[0mself\u001b[0m\u001b[1;33m)\u001b[0m\u001b[1;33m\u001b[0m\u001b[1;33m\u001b[0m\u001b[0m\n\u001b[0;32m   5700\u001b[0m \u001b[1;33m\u001b[0m\u001b[0m\n",
      "\u001b[1;32m~\\anaconda3\\lib\\site-packages\\pandas\\core\\internals\\managers.py\u001b[0m in \u001b[0;36mastype\u001b[1;34m(self, dtype, copy, errors)\u001b[0m\n\u001b[0;32m    580\u001b[0m \u001b[1;33m\u001b[0m\u001b[0m\n\u001b[0;32m    581\u001b[0m     \u001b[1;32mdef\u001b[0m \u001b[0mastype\u001b[0m\u001b[1;33m(\u001b[0m\u001b[0mself\u001b[0m\u001b[1;33m,\u001b[0m \u001b[0mdtype\u001b[0m\u001b[1;33m,\u001b[0m \u001b[0mcopy\u001b[0m\u001b[1;33m:\u001b[0m \u001b[0mbool\u001b[0m \u001b[1;33m=\u001b[0m \u001b[1;32mFalse\u001b[0m\u001b[1;33m,\u001b[0m \u001b[0merrors\u001b[0m\u001b[1;33m:\u001b[0m \u001b[0mstr\u001b[0m \u001b[1;33m=\u001b[0m \u001b[1;34m\"raise\"\u001b[0m\u001b[1;33m)\u001b[0m\u001b[1;33m:\u001b[0m\u001b[1;33m\u001b[0m\u001b[1;33m\u001b[0m\u001b[0m\n\u001b[1;32m--> 582\u001b[1;33m         \u001b[1;32mreturn\u001b[0m \u001b[0mself\u001b[0m\u001b[1;33m.\u001b[0m\u001b[0mapply\u001b[0m\u001b[1;33m(\u001b[0m\u001b[1;34m\"astype\"\u001b[0m\u001b[1;33m,\u001b[0m \u001b[0mdtype\u001b[0m\u001b[1;33m=\u001b[0m\u001b[0mdtype\u001b[0m\u001b[1;33m,\u001b[0m \u001b[0mcopy\u001b[0m\u001b[1;33m=\u001b[0m\u001b[0mcopy\u001b[0m\u001b[1;33m,\u001b[0m \u001b[0merrors\u001b[0m\u001b[1;33m=\u001b[0m\u001b[0merrors\u001b[0m\u001b[1;33m)\u001b[0m\u001b[1;33m\u001b[0m\u001b[1;33m\u001b[0m\u001b[0m\n\u001b[0m\u001b[0;32m    583\u001b[0m \u001b[1;33m\u001b[0m\u001b[0m\n\u001b[0;32m    584\u001b[0m     \u001b[1;32mdef\u001b[0m \u001b[0mconvert\u001b[0m\u001b[1;33m(\u001b[0m\u001b[0mself\u001b[0m\u001b[1;33m,\u001b[0m \u001b[1;33m**\u001b[0m\u001b[0mkwargs\u001b[0m\u001b[1;33m)\u001b[0m\u001b[1;33m:\u001b[0m\u001b[1;33m\u001b[0m\u001b[1;33m\u001b[0m\u001b[0m\n",
      "\u001b[1;32m~\\anaconda3\\lib\\site-packages\\pandas\\core\\internals\\managers.py\u001b[0m in \u001b[0;36mapply\u001b[1;34m(self, f, filter, **kwargs)\u001b[0m\n\u001b[0;32m    440\u001b[0m                 \u001b[0mapplied\u001b[0m \u001b[1;33m=\u001b[0m \u001b[0mb\u001b[0m\u001b[1;33m.\u001b[0m\u001b[0mapply\u001b[0m\u001b[1;33m(\u001b[0m\u001b[0mf\u001b[0m\u001b[1;33m,\u001b[0m \u001b[1;33m**\u001b[0m\u001b[0mkwargs\u001b[0m\u001b[1;33m)\u001b[0m\u001b[1;33m\u001b[0m\u001b[1;33m\u001b[0m\u001b[0m\n\u001b[0;32m    441\u001b[0m             \u001b[1;32melse\u001b[0m\u001b[1;33m:\u001b[0m\u001b[1;33m\u001b[0m\u001b[1;33m\u001b[0m\u001b[0m\n\u001b[1;32m--> 442\u001b[1;33m                 \u001b[0mapplied\u001b[0m \u001b[1;33m=\u001b[0m \u001b[0mgetattr\u001b[0m\u001b[1;33m(\u001b[0m\u001b[0mb\u001b[0m\u001b[1;33m,\u001b[0m \u001b[0mf\u001b[0m\u001b[1;33m)\u001b[0m\u001b[1;33m(\u001b[0m\u001b[1;33m**\u001b[0m\u001b[0mkwargs\u001b[0m\u001b[1;33m)\u001b[0m\u001b[1;33m\u001b[0m\u001b[1;33m\u001b[0m\u001b[0m\n\u001b[0m\u001b[0;32m    443\u001b[0m             \u001b[0mresult_blocks\u001b[0m \u001b[1;33m=\u001b[0m \u001b[0m_extend_blocks\u001b[0m\u001b[1;33m(\u001b[0m\u001b[0mapplied\u001b[0m\u001b[1;33m,\u001b[0m \u001b[0mresult_blocks\u001b[0m\u001b[1;33m)\u001b[0m\u001b[1;33m\u001b[0m\u001b[1;33m\u001b[0m\u001b[0m\n\u001b[0;32m    444\u001b[0m \u001b[1;33m\u001b[0m\u001b[0m\n",
      "\u001b[1;32m~\\anaconda3\\lib\\site-packages\\pandas\\core\\internals\\blocks.py\u001b[0m in \u001b[0;36mastype\u001b[1;34m(self, dtype, copy, errors)\u001b[0m\n\u001b[0;32m    623\u001b[0m             \u001b[0mvals1d\u001b[0m \u001b[1;33m=\u001b[0m \u001b[0mvalues\u001b[0m\u001b[1;33m.\u001b[0m\u001b[0mravel\u001b[0m\u001b[1;33m(\u001b[0m\u001b[1;33m)\u001b[0m\u001b[1;33m\u001b[0m\u001b[1;33m\u001b[0m\u001b[0m\n\u001b[0;32m    624\u001b[0m             \u001b[1;32mtry\u001b[0m\u001b[1;33m:\u001b[0m\u001b[1;33m\u001b[0m\u001b[1;33m\u001b[0m\u001b[0m\n\u001b[1;32m--> 625\u001b[1;33m                 \u001b[0mvalues\u001b[0m \u001b[1;33m=\u001b[0m \u001b[0mastype_nansafe\u001b[0m\u001b[1;33m(\u001b[0m\u001b[0mvals1d\u001b[0m\u001b[1;33m,\u001b[0m \u001b[0mdtype\u001b[0m\u001b[1;33m,\u001b[0m \u001b[0mcopy\u001b[0m\u001b[1;33m=\u001b[0m\u001b[1;32mTrue\u001b[0m\u001b[1;33m)\u001b[0m\u001b[1;33m\u001b[0m\u001b[1;33m\u001b[0m\u001b[0m\n\u001b[0m\u001b[0;32m    626\u001b[0m             \u001b[1;32mexcept\u001b[0m \u001b[1;33m(\u001b[0m\u001b[0mValueError\u001b[0m\u001b[1;33m,\u001b[0m \u001b[0mTypeError\u001b[0m\u001b[1;33m)\u001b[0m\u001b[1;33m:\u001b[0m\u001b[1;33m\u001b[0m\u001b[1;33m\u001b[0m\u001b[0m\n\u001b[0;32m    627\u001b[0m                 \u001b[1;31m# e.g. astype_nansafe can fail on object-dtype of strings\u001b[0m\u001b[1;33m\u001b[0m\u001b[1;33m\u001b[0m\u001b[1;33m\u001b[0m\u001b[0m\n",
      "\u001b[1;32m~\\anaconda3\\lib\\site-packages\\pandas\\core\\dtypes\\cast.py\u001b[0m in \u001b[0;36mastype_nansafe\u001b[1;34m(arr, dtype, copy, skipna)\u001b[0m\n\u001b[0;32m    895\u001b[0m     \u001b[1;32mif\u001b[0m \u001b[0mcopy\u001b[0m \u001b[1;32mor\u001b[0m \u001b[0mis_object_dtype\u001b[0m\u001b[1;33m(\u001b[0m\u001b[0marr\u001b[0m\u001b[1;33m)\u001b[0m \u001b[1;32mor\u001b[0m \u001b[0mis_object_dtype\u001b[0m\u001b[1;33m(\u001b[0m\u001b[0mdtype\u001b[0m\u001b[1;33m)\u001b[0m\u001b[1;33m:\u001b[0m\u001b[1;33m\u001b[0m\u001b[1;33m\u001b[0m\u001b[0m\n\u001b[0;32m    896\u001b[0m         \u001b[1;31m# Explicit copy, or required since NumPy can't view from / to object.\u001b[0m\u001b[1;33m\u001b[0m\u001b[1;33m\u001b[0m\u001b[1;33m\u001b[0m\u001b[0m\n\u001b[1;32m--> 897\u001b[1;33m         \u001b[1;32mreturn\u001b[0m \u001b[0marr\u001b[0m\u001b[1;33m.\u001b[0m\u001b[0mastype\u001b[0m\u001b[1;33m(\u001b[0m\u001b[0mdtype\u001b[0m\u001b[1;33m,\u001b[0m \u001b[0mcopy\u001b[0m\u001b[1;33m=\u001b[0m\u001b[1;32mTrue\u001b[0m\u001b[1;33m)\u001b[0m\u001b[1;33m\u001b[0m\u001b[1;33m\u001b[0m\u001b[0m\n\u001b[0m\u001b[0;32m    898\u001b[0m \u001b[1;33m\u001b[0m\u001b[0m\n\u001b[0;32m    899\u001b[0m     \u001b[1;32mreturn\u001b[0m \u001b[0marr\u001b[0m\u001b[1;33m.\u001b[0m\u001b[0mview\u001b[0m\u001b[1;33m(\u001b[0m\u001b[0mdtype\u001b[0m\u001b[1;33m)\u001b[0m\u001b[1;33m\u001b[0m\u001b[1;33m\u001b[0m\u001b[0m\n",
      "\u001b[1;31mValueError\u001b[0m: could not convert string to float: "
     ]
    }
   ],
   "source": [
    "SaoAQIDF[\"date\"] = SaoAQIDF[\"date\"].astype(str)\n",
    "SaoAQIDF[[\"month\",\"day\",\"year\"]] = SaoAQIDF[\"date\"].str.split(\"/\", n=2, expand=True)\n",
    "SaoAQIDF"
   ]
  },
  {
   "cell_type": "code",
   "execution_count": 14,
   "metadata": {},
   "outputs": [
    {
     "output_type": "execute_result",
     "data": {
      "text/plain": "           date  pm25  pm10  o3  no2  so2  co month day  year\n0      1/1/2014              17    6        4     1   1  2014\n1      1/2/2014    43        24   13        5     1   2  2014\n2      1/3/2014    32        26   16        5     1   3  2014\n3      1/4/2014    41        25   10        4     1   4  2014\n4      1/5/2014    38        25    8        4     1   5  2014\n...         ...   ...   ...  ..  ...  ...  ..   ...  ..   ...\n2361  7/20/2020    64    43  20   18        9     7  20  2020\n2362  7/21/2020    70    51  18   23       11     7  21  2020\n2363  7/22/2020    84    59  33   26       11     7  22  2020\n2364  7/23/2020   102    46  35   26        8     7  23  2020\n2365  7/24/2020    90                             7  24  2020\n\n[1464 rows x 10 columns]",
      "text/html": "<div>\n<style scoped>\n    .dataframe tbody tr th:only-of-type {\n        vertical-align: middle;\n    }\n\n    .dataframe tbody tr th {\n        vertical-align: top;\n    }\n\n    .dataframe thead th {\n        text-align: right;\n    }\n</style>\n<table border=\"1\" class=\"dataframe\">\n  <thead>\n    <tr style=\"text-align: right;\">\n      <th></th>\n      <th>date</th>\n      <th>pm25</th>\n      <th>pm10</th>\n      <th>o3</th>\n      <th>no2</th>\n      <th>so2</th>\n      <th>co</th>\n      <th>month</th>\n      <th>day</th>\n      <th>year</th>\n    </tr>\n  </thead>\n  <tbody>\n    <tr>\n      <th>0</th>\n      <td>1/1/2014</td>\n      <td></td>\n      <td></td>\n      <td>17</td>\n      <td>6</td>\n      <td></td>\n      <td>4</td>\n      <td>1</td>\n      <td>1</td>\n      <td>2014</td>\n    </tr>\n    <tr>\n      <th>1</th>\n      <td>1/2/2014</td>\n      <td>43</td>\n      <td></td>\n      <td>24</td>\n      <td>13</td>\n      <td></td>\n      <td>5</td>\n      <td>1</td>\n      <td>2</td>\n      <td>2014</td>\n    </tr>\n    <tr>\n      <th>2</th>\n      <td>1/3/2014</td>\n      <td>32</td>\n      <td></td>\n      <td>26</td>\n      <td>16</td>\n      <td></td>\n      <td>5</td>\n      <td>1</td>\n      <td>3</td>\n      <td>2014</td>\n    </tr>\n    <tr>\n      <th>3</th>\n      <td>1/4/2014</td>\n      <td>41</td>\n      <td></td>\n      <td>25</td>\n      <td>10</td>\n      <td></td>\n      <td>4</td>\n      <td>1</td>\n      <td>4</td>\n      <td>2014</td>\n    </tr>\n    <tr>\n      <th>4</th>\n      <td>1/5/2014</td>\n      <td>38</td>\n      <td></td>\n      <td>25</td>\n      <td>8</td>\n      <td></td>\n      <td>4</td>\n      <td>1</td>\n      <td>5</td>\n      <td>2014</td>\n    </tr>\n    <tr>\n      <th>...</th>\n      <td>...</td>\n      <td>...</td>\n      <td>...</td>\n      <td>...</td>\n      <td>...</td>\n      <td>...</td>\n      <td>...</td>\n      <td>...</td>\n      <td>...</td>\n      <td>...</td>\n    </tr>\n    <tr>\n      <th>2361</th>\n      <td>7/20/2020</td>\n      <td>64</td>\n      <td>43</td>\n      <td>20</td>\n      <td>18</td>\n      <td></td>\n      <td>9</td>\n      <td>7</td>\n      <td>20</td>\n      <td>2020</td>\n    </tr>\n    <tr>\n      <th>2362</th>\n      <td>7/21/2020</td>\n      <td>70</td>\n      <td>51</td>\n      <td>18</td>\n      <td>23</td>\n      <td></td>\n      <td>11</td>\n      <td>7</td>\n      <td>21</td>\n      <td>2020</td>\n    </tr>\n    <tr>\n      <th>2363</th>\n      <td>7/22/2020</td>\n      <td>84</td>\n      <td>59</td>\n      <td>33</td>\n      <td>26</td>\n      <td></td>\n      <td>11</td>\n      <td>7</td>\n      <td>22</td>\n      <td>2020</td>\n    </tr>\n    <tr>\n      <th>2364</th>\n      <td>7/23/2020</td>\n      <td>102</td>\n      <td>46</td>\n      <td>35</td>\n      <td>26</td>\n      <td></td>\n      <td>8</td>\n      <td>7</td>\n      <td>23</td>\n      <td>2020</td>\n    </tr>\n    <tr>\n      <th>2365</th>\n      <td>7/24/2020</td>\n      <td>90</td>\n      <td></td>\n      <td></td>\n      <td></td>\n      <td></td>\n      <td></td>\n      <td>7</td>\n      <td>24</td>\n      <td>2020</td>\n    </tr>\n  </tbody>\n</table>\n<p>1464 rows × 10 columns</p>\n</div>"
     },
     "metadata": {},
     "execution_count": 14
    }
   ],
   "source": [
    "SaoAQIDF[\"month\"] = SaoAQIDF[\"month\"].astype(int)\n",
    "SaoAQIDF[\"year\"] = SaoAQIDF[\"year\"].astype(int)\n",
    "SaoAQIDF = SaoAQIDF[SaoAQIDF[\"month\"] < 8]\n",
    "SaoAQIDF[\"month\"] = SaoAQIDF[\"month\"].astype(str)\n",
    "SaoAQIDF"
   ]
  },
  {
   "cell_type": "code",
   "execution_count": 15,
   "metadata": {},
   "outputs": [
    {
     "output_type": "execute_result",
     "data": {
      "text/plain": "           date  pm25  pm10  o3  no2  so2  co month day  year\n1079   1/1/2017              29    2        5     1   1  2017\n1080   1/2/2017               2                   1   2  2017\n1081   1/3/2017          21  54   14        8     1   3  2017\n1082   1/4/2017    54    18  41   16        6     1   4  2017\n1083   1/5/2017    44    19  29   20        3     1   5  2017\n...         ...   ...   ...  ..  ...  ...  ..   ...  ..   ...\n1286  7/27/2017              22   24        5     7  27  2017\n1287  7/28/2017              18   28        4     7  28  2017\n1288  7/29/2017              22   23        4     7  29  2017\n1289  7/30/2017              23   12        3     7  30  2017\n1290  7/31/2017              15   27        7     7  31  2017\n\n[212 rows x 10 columns]",
      "text/html": "<div>\n<style scoped>\n    .dataframe tbody tr th:only-of-type {\n        vertical-align: middle;\n    }\n\n    .dataframe tbody tr th {\n        vertical-align: top;\n    }\n\n    .dataframe thead th {\n        text-align: right;\n    }\n</style>\n<table border=\"1\" class=\"dataframe\">\n  <thead>\n    <tr style=\"text-align: right;\">\n      <th></th>\n      <th>date</th>\n      <th>pm25</th>\n      <th>pm10</th>\n      <th>o3</th>\n      <th>no2</th>\n      <th>so2</th>\n      <th>co</th>\n      <th>month</th>\n      <th>day</th>\n      <th>year</th>\n    </tr>\n  </thead>\n  <tbody>\n    <tr>\n      <th>1079</th>\n      <td>1/1/2017</td>\n      <td></td>\n      <td></td>\n      <td>29</td>\n      <td>2</td>\n      <td></td>\n      <td>5</td>\n      <td>1</td>\n      <td>1</td>\n      <td>2017</td>\n    </tr>\n    <tr>\n      <th>1080</th>\n      <td>1/2/2017</td>\n      <td></td>\n      <td></td>\n      <td>2</td>\n      <td></td>\n      <td></td>\n      <td></td>\n      <td>1</td>\n      <td>2</td>\n      <td>2017</td>\n    </tr>\n    <tr>\n      <th>1081</th>\n      <td>1/3/2017</td>\n      <td></td>\n      <td>21</td>\n      <td>54</td>\n      <td>14</td>\n      <td></td>\n      <td>8</td>\n      <td>1</td>\n      <td>3</td>\n      <td>2017</td>\n    </tr>\n    <tr>\n      <th>1082</th>\n      <td>1/4/2017</td>\n      <td>54</td>\n      <td>18</td>\n      <td>41</td>\n      <td>16</td>\n      <td></td>\n      <td>6</td>\n      <td>1</td>\n      <td>4</td>\n      <td>2017</td>\n    </tr>\n    <tr>\n      <th>1083</th>\n      <td>1/5/2017</td>\n      <td>44</td>\n      <td>19</td>\n      <td>29</td>\n      <td>20</td>\n      <td></td>\n      <td>3</td>\n      <td>1</td>\n      <td>5</td>\n      <td>2017</td>\n    </tr>\n    <tr>\n      <th>...</th>\n      <td>...</td>\n      <td>...</td>\n      <td>...</td>\n      <td>...</td>\n      <td>...</td>\n      <td>...</td>\n      <td>...</td>\n      <td>...</td>\n      <td>...</td>\n      <td>...</td>\n    </tr>\n    <tr>\n      <th>1286</th>\n      <td>7/27/2017</td>\n      <td></td>\n      <td></td>\n      <td>22</td>\n      <td>24</td>\n      <td></td>\n      <td>5</td>\n      <td>7</td>\n      <td>27</td>\n      <td>2017</td>\n    </tr>\n    <tr>\n      <th>1287</th>\n      <td>7/28/2017</td>\n      <td></td>\n      <td></td>\n      <td>18</td>\n      <td>28</td>\n      <td></td>\n      <td>4</td>\n      <td>7</td>\n      <td>28</td>\n      <td>2017</td>\n    </tr>\n    <tr>\n      <th>1288</th>\n      <td>7/29/2017</td>\n      <td></td>\n      <td></td>\n      <td>22</td>\n      <td>23</td>\n      <td></td>\n      <td>4</td>\n      <td>7</td>\n      <td>29</td>\n      <td>2017</td>\n    </tr>\n    <tr>\n      <th>1289</th>\n      <td>7/30/2017</td>\n      <td></td>\n      <td></td>\n      <td>23</td>\n      <td>12</td>\n      <td></td>\n      <td>3</td>\n      <td>7</td>\n      <td>30</td>\n      <td>2017</td>\n    </tr>\n    <tr>\n      <th>1290</th>\n      <td>7/31/2017</td>\n      <td></td>\n      <td></td>\n      <td>15</td>\n      <td>27</td>\n      <td></td>\n      <td>7</td>\n      <td>7</td>\n      <td>31</td>\n      <td>2017</td>\n    </tr>\n  </tbody>\n</table>\n<p>212 rows × 10 columns</p>\n</div>"
     },
     "metadata": {},
     "execution_count": 15
    }
   ],
   "source": [
    "Sao2017AQIDF = SaoAQIDF[SaoAQIDF[\"year\"] == 2017]\n",
    "Sao2017AQIDF"
   ]
  },
  {
   "cell_type": "code",
   "execution_count": 32,
   "metadata": {
    "tags": []
   },
   "outputs": [
    {
     "output_type": "execute_result",
     "data": {
      "text/plain": "<bound method Series.count of 0        \n1        \n2        \n3      54\n4      44\n       ..\n207      \n208      \n209      \n210      \n211      \nName:  pm25, Length: 212, dtype: object>"
     },
     "metadata": {},
     "execution_count": 32
    }
   ],
   "source": [
    "Sao2017AQIDF[\" pm25\"].count"
   ]
  },
  {
   "cell_type": "code",
   "execution_count": 21,
   "metadata": {},
   "outputs": [
    {
     "output_type": "error",
     "ename": "KeyError",
     "evalue": "\"[' pm10' ' o3' ' no2' ' so2' ' co' 'date' 'year' 'day'] not found in axis\"",
     "traceback": [
      "\u001b[1;31m---------------------------------------------------------------------------\u001b[0m",
      "\u001b[1;31mKeyError\u001b[0m                                  Traceback (most recent call last)",
      "\u001b[1;32m<ipython-input-21-c7e234492ebb>\u001b[0m in \u001b[0;36m<module>\u001b[1;34m\u001b[0m\n\u001b[0;32m      1\u001b[0m \u001b[0mSao2017AQIDF\u001b[0m\u001b[1;33m.\u001b[0m\u001b[0mdropna\u001b[0m\u001b[1;33m(\u001b[0m\u001b[0msubset\u001b[0m\u001b[1;33m=\u001b[0m\u001b[1;33m[\u001b[0m\u001b[1;34m\" pm25\"\u001b[0m\u001b[1;33m]\u001b[0m\u001b[1;33m,\u001b[0m \u001b[0minplace\u001b[0m\u001b[1;33m=\u001b[0m\u001b[1;32mTrue\u001b[0m\u001b[1;33m)\u001b[0m\u001b[1;33m\u001b[0m\u001b[1;33m\u001b[0m\u001b[0m\n\u001b[1;32m----> 2\u001b[1;33m \u001b[0mSao2017AQIDF\u001b[0m\u001b[1;33m.\u001b[0m\u001b[0mdrop\u001b[0m\u001b[1;33m(\u001b[0m\u001b[0mcolumns\u001b[0m\u001b[1;33m=\u001b[0m\u001b[1;33m[\u001b[0m\u001b[1;34m\" pm10\"\u001b[0m\u001b[1;33m,\u001b[0m \u001b[1;34m\" o3\"\u001b[0m\u001b[1;33m,\u001b[0m \u001b[1;34m\" no2\"\u001b[0m\u001b[1;33m,\u001b[0m\u001b[1;34m\" so2\"\u001b[0m\u001b[1;33m,\u001b[0m\u001b[1;34m\" co\"\u001b[0m\u001b[1;33m,\u001b[0m\u001b[1;34m\"date\"\u001b[0m\u001b[1;33m,\u001b[0m\u001b[1;34m\"year\"\u001b[0m\u001b[1;33m,\u001b[0m\u001b[1;34m\"day\"\u001b[0m\u001b[1;33m]\u001b[0m\u001b[1;33m,\u001b[0m \u001b[0minplace\u001b[0m\u001b[1;33m=\u001b[0m\u001b[1;32mTrue\u001b[0m\u001b[1;33m)\u001b[0m\u001b[1;33m\u001b[0m\u001b[1;33m\u001b[0m\u001b[0m\n\u001b[0m\u001b[0;32m      3\u001b[0m \u001b[0mSao2017AQIDF\u001b[0m\u001b[1;33m.\u001b[0m\u001b[0mreset_index\u001b[0m\u001b[1;33m(\u001b[0m\u001b[0mdrop\u001b[0m\u001b[1;33m=\u001b[0m\u001b[1;32mTrue\u001b[0m\u001b[1;33m,\u001b[0m \u001b[0minplace\u001b[0m\u001b[1;33m=\u001b[0m\u001b[1;32mTrue\u001b[0m\u001b[1;33m)\u001b[0m\u001b[1;33m\u001b[0m\u001b[1;33m\u001b[0m\u001b[0m\n\u001b[0;32m      4\u001b[0m \u001b[0mAQI2017\u001b[0m \u001b[1;33m=\u001b[0m \u001b[1;33m[\u001b[0m\u001b[1;33m]\u001b[0m\u001b[1;33m\u001b[0m\u001b[1;33m\u001b[0m\u001b[0m\n\u001b[0;32m      5\u001b[0m \u001b[1;33m\u001b[0m\u001b[0m\n",
      "\u001b[1;32m~\\anaconda3\\lib\\site-packages\\pandas\\core\\frame.py\u001b[0m in \u001b[0;36mdrop\u001b[1;34m(self, labels, axis, index, columns, level, inplace, errors)\u001b[0m\n\u001b[0;32m   3995\u001b[0m             \u001b[0mlevel\u001b[0m\u001b[1;33m=\u001b[0m\u001b[0mlevel\u001b[0m\u001b[1;33m,\u001b[0m\u001b[1;33m\u001b[0m\u001b[1;33m\u001b[0m\u001b[0m\n\u001b[0;32m   3996\u001b[0m             \u001b[0minplace\u001b[0m\u001b[1;33m=\u001b[0m\u001b[0minplace\u001b[0m\u001b[1;33m,\u001b[0m\u001b[1;33m\u001b[0m\u001b[1;33m\u001b[0m\u001b[0m\n\u001b[1;32m-> 3997\u001b[1;33m             \u001b[0merrors\u001b[0m\u001b[1;33m=\u001b[0m\u001b[0merrors\u001b[0m\u001b[1;33m,\u001b[0m\u001b[1;33m\u001b[0m\u001b[1;33m\u001b[0m\u001b[0m\n\u001b[0m\u001b[0;32m   3998\u001b[0m         )\n\u001b[0;32m   3999\u001b[0m \u001b[1;33m\u001b[0m\u001b[0m\n",
      "\u001b[1;32m~\\anaconda3\\lib\\site-packages\\pandas\\core\\generic.py\u001b[0m in \u001b[0;36mdrop\u001b[1;34m(self, labels, axis, index, columns, level, inplace, errors)\u001b[0m\n\u001b[0;32m   3934\u001b[0m         \u001b[1;32mfor\u001b[0m \u001b[0maxis\u001b[0m\u001b[1;33m,\u001b[0m \u001b[0mlabels\u001b[0m \u001b[1;32min\u001b[0m \u001b[0maxes\u001b[0m\u001b[1;33m.\u001b[0m\u001b[0mitems\u001b[0m\u001b[1;33m(\u001b[0m\u001b[1;33m)\u001b[0m\u001b[1;33m:\u001b[0m\u001b[1;33m\u001b[0m\u001b[1;33m\u001b[0m\u001b[0m\n\u001b[0;32m   3935\u001b[0m             \u001b[1;32mif\u001b[0m \u001b[0mlabels\u001b[0m \u001b[1;32mis\u001b[0m \u001b[1;32mnot\u001b[0m \u001b[1;32mNone\u001b[0m\u001b[1;33m:\u001b[0m\u001b[1;33m\u001b[0m\u001b[1;33m\u001b[0m\u001b[0m\n\u001b[1;32m-> 3936\u001b[1;33m                 \u001b[0mobj\u001b[0m \u001b[1;33m=\u001b[0m \u001b[0mobj\u001b[0m\u001b[1;33m.\u001b[0m\u001b[0m_drop_axis\u001b[0m\u001b[1;33m(\u001b[0m\u001b[0mlabels\u001b[0m\u001b[1;33m,\u001b[0m \u001b[0maxis\u001b[0m\u001b[1;33m,\u001b[0m \u001b[0mlevel\u001b[0m\u001b[1;33m=\u001b[0m\u001b[0mlevel\u001b[0m\u001b[1;33m,\u001b[0m \u001b[0merrors\u001b[0m\u001b[1;33m=\u001b[0m\u001b[0merrors\u001b[0m\u001b[1;33m)\u001b[0m\u001b[1;33m\u001b[0m\u001b[1;33m\u001b[0m\u001b[0m\n\u001b[0m\u001b[0;32m   3937\u001b[0m \u001b[1;33m\u001b[0m\u001b[0m\n\u001b[0;32m   3938\u001b[0m         \u001b[1;32mif\u001b[0m \u001b[0minplace\u001b[0m\u001b[1;33m:\u001b[0m\u001b[1;33m\u001b[0m\u001b[1;33m\u001b[0m\u001b[0m\n",
      "\u001b[1;32m~\\anaconda3\\lib\\site-packages\\pandas\\core\\generic.py\u001b[0m in \u001b[0;36m_drop_axis\u001b[1;34m(self, labels, axis, level, errors)\u001b[0m\n\u001b[0;32m   3968\u001b[0m                 \u001b[0mnew_axis\u001b[0m \u001b[1;33m=\u001b[0m \u001b[0maxis\u001b[0m\u001b[1;33m.\u001b[0m\u001b[0mdrop\u001b[0m\u001b[1;33m(\u001b[0m\u001b[0mlabels\u001b[0m\u001b[1;33m,\u001b[0m \u001b[0mlevel\u001b[0m\u001b[1;33m=\u001b[0m\u001b[0mlevel\u001b[0m\u001b[1;33m,\u001b[0m \u001b[0merrors\u001b[0m\u001b[1;33m=\u001b[0m\u001b[0merrors\u001b[0m\u001b[1;33m)\u001b[0m\u001b[1;33m\u001b[0m\u001b[1;33m\u001b[0m\u001b[0m\n\u001b[0;32m   3969\u001b[0m             \u001b[1;32melse\u001b[0m\u001b[1;33m:\u001b[0m\u001b[1;33m\u001b[0m\u001b[1;33m\u001b[0m\u001b[0m\n\u001b[1;32m-> 3970\u001b[1;33m                 \u001b[0mnew_axis\u001b[0m \u001b[1;33m=\u001b[0m \u001b[0maxis\u001b[0m\u001b[1;33m.\u001b[0m\u001b[0mdrop\u001b[0m\u001b[1;33m(\u001b[0m\u001b[0mlabels\u001b[0m\u001b[1;33m,\u001b[0m \u001b[0merrors\u001b[0m\u001b[1;33m=\u001b[0m\u001b[0merrors\u001b[0m\u001b[1;33m)\u001b[0m\u001b[1;33m\u001b[0m\u001b[1;33m\u001b[0m\u001b[0m\n\u001b[0m\u001b[0;32m   3971\u001b[0m             \u001b[0mresult\u001b[0m \u001b[1;33m=\u001b[0m \u001b[0mself\u001b[0m\u001b[1;33m.\u001b[0m\u001b[0mreindex\u001b[0m\u001b[1;33m(\u001b[0m\u001b[1;33m**\u001b[0m\u001b[1;33m{\u001b[0m\u001b[0maxis_name\u001b[0m\u001b[1;33m:\u001b[0m \u001b[0mnew_axis\u001b[0m\u001b[1;33m}\u001b[0m\u001b[1;33m)\u001b[0m\u001b[1;33m\u001b[0m\u001b[1;33m\u001b[0m\u001b[0m\n\u001b[0;32m   3972\u001b[0m \u001b[1;33m\u001b[0m\u001b[0m\n",
      "\u001b[1;32m~\\anaconda3\\lib\\site-packages\\pandas\\core\\indexes\\base.py\u001b[0m in \u001b[0;36mdrop\u001b[1;34m(self, labels, errors)\u001b[0m\n\u001b[0;32m   5016\u001b[0m         \u001b[1;32mif\u001b[0m \u001b[0mmask\u001b[0m\u001b[1;33m.\u001b[0m\u001b[0many\u001b[0m\u001b[1;33m(\u001b[0m\u001b[1;33m)\u001b[0m\u001b[1;33m:\u001b[0m\u001b[1;33m\u001b[0m\u001b[1;33m\u001b[0m\u001b[0m\n\u001b[0;32m   5017\u001b[0m             \u001b[1;32mif\u001b[0m \u001b[0merrors\u001b[0m \u001b[1;33m!=\u001b[0m \u001b[1;34m\"ignore\"\u001b[0m\u001b[1;33m:\u001b[0m\u001b[1;33m\u001b[0m\u001b[1;33m\u001b[0m\u001b[0m\n\u001b[1;32m-> 5018\u001b[1;33m                 \u001b[1;32mraise\u001b[0m \u001b[0mKeyError\u001b[0m\u001b[1;33m(\u001b[0m\u001b[1;34mf\"{labels[mask]} not found in axis\"\u001b[0m\u001b[1;33m)\u001b[0m\u001b[1;33m\u001b[0m\u001b[1;33m\u001b[0m\u001b[0m\n\u001b[0m\u001b[0;32m   5019\u001b[0m             \u001b[0mindexer\u001b[0m \u001b[1;33m=\u001b[0m \u001b[0mindexer\u001b[0m\u001b[1;33m[\u001b[0m\u001b[1;33m~\u001b[0m\u001b[0mmask\u001b[0m\u001b[1;33m]\u001b[0m\u001b[1;33m\u001b[0m\u001b[1;33m\u001b[0m\u001b[0m\n\u001b[0;32m   5020\u001b[0m         \u001b[1;32mreturn\u001b[0m \u001b[0mself\u001b[0m\u001b[1;33m.\u001b[0m\u001b[0mdelete\u001b[0m\u001b[1;33m(\u001b[0m\u001b[0mindexer\u001b[0m\u001b[1;33m)\u001b[0m\u001b[1;33m\u001b[0m\u001b[1;33m\u001b[0m\u001b[0m\n",
      "\u001b[1;31mKeyError\u001b[0m: \"[' pm10' ' o3' ' no2' ' so2' ' co' 'date' 'year' 'day'] not found in axis\""
     ]
    }
   ],
   "source": [
    "Sao2017AQIDF.dropna(subset=[\" pm25\"], inplace=True)\n",
    "Sao2017AQIDF.drop(columns=[\" pm10\", \" o3\", \" no2\",\" so2\",\" co\",\"date\",\"year\",\"day\"], inplace=True)\n",
    "Sao2017AQIDF.reset_index(drop=True, inplace=True)\n",
    "AQI2017 = []\n",
    "\n",
    "for value in Sao2017AQIDF[\" pm25\"]:\n",
    "    if value > 0 and value <= 12:\n",
    "        AQI2017.append((((50-0)/(12 - 0))*(value - 0)) + 0)\n",
    "    elif value >= 12.1 and value <= 35.4:\n",
    "        AQI2017.append((((100 - 51)/(35.4 - 12.1))*(value - 12.1)) + 51)\n",
    "    elif value >= 35.5 and value <= 55.4:\n",
    "        AQI2017.append((((150 - 101)/(55.4 - 35.5))*(value - 35.5)) + 101)\n",
    "    elif value >= 55.5 and value <= 150.4:\n",
    "        AQI2017.append((((200 - 151)/(150.4- 55.4))*(value - 55.5)) + 151)\n",
    "    elif value >= 150.5 and value <= 250.4:\n",
    "        AQI2017.append((((300 - 201)/(250.4 - 150.5))*(value - 150.5)) + 201)\n",
    "    elif value >= 250.5 and value <= 350.4:\n",
    "        AQI2017.append((((400 - 301)/(350.4 - 250.5))*(value - 250.5)) + 301)\n",
    "    elif value >= 350.5 and value <= 500.4:\n",
    "        AQI2017.append((((500 - 401)/(500.4 - 350.5))*(value - 350.5)) + 401)\n",
    "    else:\n",
    "        AQI2017.append(\"invalid\")\n",
    "#Add list to data frame, then drop rows with invalid values\n",
    "Sao2017AQIDF[\"AQI\"] = AQI2017\n",
    "Sao2017AQIDF = Sao2017AQIDF[Sao2017AQIDF[\"AQI\"] != \"invalid\" ]\n",
    "#round it up\n",
    "Sao2017AQIDF[\"AQI\"] = [round(i) for i in Sao2017AQIDF[\"AQI\"]]\n",
    "\n",
    "Sao2017 = Sao2017AQIDF.groupby([\"month\"]).mean()\n",
    "Sao2017.rename(columns={\"AQI\":\"2017 Mean AQI\"},index={\"1\":\"Jan\", \"2\":\"Feb\", \"3\":\"March\", \"4\":\"April\", \"5\":\"May\", \"6\":\"June\", \"7\":\"July\"}, inplace=True)\n",
    "Sao2017.drop([\" pm25\"], axis=1, inplace=True)\n",
    "Sao2017 = Sao2017.astype(int)\n",
    "Sao2017"
   ]
  },
  {
   "cell_type": "code",
   "execution_count": null,
   "metadata": {},
   "outputs": [],
   "source": []
  }
 ]
}