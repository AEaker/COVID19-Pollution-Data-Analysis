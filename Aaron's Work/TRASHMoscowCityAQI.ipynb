{
 "metadata": {
  "language_info": {
   "codemirror_mode": {
    "name": "ipython",
    "version": 3
   },
   "file_extension": ".py",
   "mimetype": "text/x-python",
   "name": "python",
   "nbconvert_exporter": "python",
   "pygments_lexer": "ipython3",
   "version": 3
  },
  "orig_nbformat": 2,
  "kernelspec": {
   "name": "python_defaultSpec_1595984450144",
   "display_name": "Python 3.7.6 64-bit ('base': conda)"
  }
 },
 "nbformat": 4,
 "nbformat_minor": 2,
 "cells": [
  {
   "cell_type": "code",
   "execution_count": 1,
   "metadata": {},
   "outputs": [],
   "source": [
    "import pandas as pd\n",
    "import csv\n",
    "import numpy as np\n",
    "import matplotlib.pyplot as plt\n",
    "from matplotlib.patches import Patch"
   ]
  },
  {
   "cell_type": "code",
   "execution_count": 5,
   "metadata": {},
   "outputs": [],
   "source": [
    "filepath = \"Resources/MoscowAQI.csv\"\n",
    "MosAQIDF = pd.read_csv(filepath , delimiter=\", \")"
   ]
  },
  {
   "cell_type": "code",
   "execution_count": 7,
   "metadata": {},
   "outputs": [
    {
     "output_type": "execute_result",
     "data": {
      "text/plain": "           date  pm25  pm10    o3   no2  so2   co\n0      2020/7/2  43.0  34.0  15.0  19.0    1  2.0\n1      2020/7/3  68.0  26.0  15.0  20.0  NaN  2.0\n2      2020/7/4  60.0  18.0  13.0  23.0    1  3.0\n3      2020/7/5  38.0   NaN  12.0   NaN    ,  NaN\n4      2020/7/8  61.0  40.0   NaN  19.0  NaN  3.0\n...         ...   ...   ...   ...   ...  ...  ...\n2024  2015/1/11   NaN   NaN   NaN   NaN  NaN  4.0\n2025   2015/2/8   NaN   NaN   NaN   NaN  NaN  1.0\n2026  2015/2/16   NaN   NaN   NaN   NaN  NaN  3.0\n2027   2015/3/5   NaN   NaN   NaN   NaN  NaN  6.0\n2028  2014/6/30   NaN   NaN   NaN   NaN  NaN  3.0\n\n[2029 rows x 7 columns]",
      "text/html": "<div>\n<style scoped>\n    .dataframe tbody tr th:only-of-type {\n        vertical-align: middle;\n    }\n\n    .dataframe tbody tr th {\n        vertical-align: top;\n    }\n\n    .dataframe thead th {\n        text-align: right;\n    }\n</style>\n<table border=\"1\" class=\"dataframe\">\n  <thead>\n    <tr style=\"text-align: right;\">\n      <th></th>\n      <th>date</th>\n      <th>pm25</th>\n      <th>pm10</th>\n      <th>o3</th>\n      <th>no2</th>\n      <th>so2</th>\n      <th>co</th>\n    </tr>\n  </thead>\n  <tbody>\n    <tr>\n      <th>0</th>\n      <td>2020/7/2</td>\n      <td>43.0</td>\n      <td>34.0</td>\n      <td>15.0</td>\n      <td>19.0</td>\n      <td>1</td>\n      <td>2.0</td>\n    </tr>\n    <tr>\n      <th>1</th>\n      <td>2020/7/3</td>\n      <td>68.0</td>\n      <td>26.0</td>\n      <td>15.0</td>\n      <td>20.0</td>\n      <td>NaN</td>\n      <td>2.0</td>\n    </tr>\n    <tr>\n      <th>2</th>\n      <td>2020/7/4</td>\n      <td>60.0</td>\n      <td>18.0</td>\n      <td>13.0</td>\n      <td>23.0</td>\n      <td>1</td>\n      <td>3.0</td>\n    </tr>\n    <tr>\n      <th>3</th>\n      <td>2020/7/5</td>\n      <td>38.0</td>\n      <td>NaN</td>\n      <td>12.0</td>\n      <td>NaN</td>\n      <td>,</td>\n      <td>NaN</td>\n    </tr>\n    <tr>\n      <th>4</th>\n      <td>2020/7/8</td>\n      <td>61.0</td>\n      <td>40.0</td>\n      <td>NaN</td>\n      <td>19.0</td>\n      <td>NaN</td>\n      <td>3.0</td>\n    </tr>\n    <tr>\n      <th>...</th>\n      <td>...</td>\n      <td>...</td>\n      <td>...</td>\n      <td>...</td>\n      <td>...</td>\n      <td>...</td>\n      <td>...</td>\n    </tr>\n    <tr>\n      <th>2024</th>\n      <td>2015/1/11</td>\n      <td>NaN</td>\n      <td>NaN</td>\n      <td>NaN</td>\n      <td>NaN</td>\n      <td>NaN</td>\n      <td>4.0</td>\n    </tr>\n    <tr>\n      <th>2025</th>\n      <td>2015/2/8</td>\n      <td>NaN</td>\n      <td>NaN</td>\n      <td>NaN</td>\n      <td>NaN</td>\n      <td>NaN</td>\n      <td>1.0</td>\n    </tr>\n    <tr>\n      <th>2026</th>\n      <td>2015/2/16</td>\n      <td>NaN</td>\n      <td>NaN</td>\n      <td>NaN</td>\n      <td>NaN</td>\n      <td>NaN</td>\n      <td>3.0</td>\n    </tr>\n    <tr>\n      <th>2027</th>\n      <td>2015/3/5</td>\n      <td>NaN</td>\n      <td>NaN</td>\n      <td>NaN</td>\n      <td>NaN</td>\n      <td>NaN</td>\n      <td>6.0</td>\n    </tr>\n    <tr>\n      <th>2028</th>\n      <td>2014/6/30</td>\n      <td>NaN</td>\n      <td>NaN</td>\n      <td>NaN</td>\n      <td>NaN</td>\n      <td>NaN</td>\n      <td>3.0</td>\n    </tr>\n  </tbody>\n</table>\n<p>2029 rows × 7 columns</p>\n</div>"
     },
     "metadata": {},
     "execution_count": 7
    }
   ],
   "source": [
    "MosAQIDF[\"date\"] = MexAQIDF[\"date\"].astype(str)\n",
    "MosAQIDF"
   ]
  },
  {
   "cell_type": "code",
   "execution_count": 8,
   "metadata": {},
   "outputs": [
    {
     "output_type": "execute_result",
     "data": {
      "text/plain": "           date  pm25  pm10    o3   no2  so2   co  year month day\n0      2020/7/2  43.0  34.0  15.0  19.0    1  2.0  2020     7   2\n1      2020/7/3  68.0  26.0  15.0  20.0  NaN  2.0  2020     7   3\n2      2020/7/4  60.0  18.0  13.0  23.0    1  3.0  2020     7   4\n3      2020/7/5  38.0   NaN  12.0   NaN    ,  NaN  2020     7   5\n4      2020/7/8  61.0  40.0   NaN  19.0  NaN  3.0  2020     7   8\n...         ...   ...   ...   ...   ...  ...  ...   ...   ...  ..\n2024  2015/1/11   NaN   NaN   NaN   NaN  NaN  4.0  2015     1  11\n2025   2015/2/8   NaN   NaN   NaN   NaN  NaN  1.0  2015     2   8\n2026  2015/2/16   NaN   NaN   NaN   NaN  NaN  3.0  2015     2  16\n2027   2015/3/5   NaN   NaN   NaN   NaN  NaN  6.0  2015     3   5\n2028  2014/6/30   NaN   NaN   NaN   NaN  NaN  3.0  2014     6  30\n\n[2029 rows x 10 columns]",
      "text/html": "<div>\n<style scoped>\n    .dataframe tbody tr th:only-of-type {\n        vertical-align: middle;\n    }\n\n    .dataframe tbody tr th {\n        vertical-align: top;\n    }\n\n    .dataframe thead th {\n        text-align: right;\n    }\n</style>\n<table border=\"1\" class=\"dataframe\">\n  <thead>\n    <tr style=\"text-align: right;\">\n      <th></th>\n      <th>date</th>\n      <th>pm25</th>\n      <th>pm10</th>\n      <th>o3</th>\n      <th>no2</th>\n      <th>so2</th>\n      <th>co</th>\n      <th>year</th>\n      <th>month</th>\n      <th>day</th>\n    </tr>\n  </thead>\n  <tbody>\n    <tr>\n      <th>0</th>\n      <td>2020/7/2</td>\n      <td>43.0</td>\n      <td>34.0</td>\n      <td>15.0</td>\n      <td>19.0</td>\n      <td>1</td>\n      <td>2.0</td>\n      <td>2020</td>\n      <td>7</td>\n      <td>2</td>\n    </tr>\n    <tr>\n      <th>1</th>\n      <td>2020/7/3</td>\n      <td>68.0</td>\n      <td>26.0</td>\n      <td>15.0</td>\n      <td>20.0</td>\n      <td>NaN</td>\n      <td>2.0</td>\n      <td>2020</td>\n      <td>7</td>\n      <td>3</td>\n    </tr>\n    <tr>\n      <th>2</th>\n      <td>2020/7/4</td>\n      <td>60.0</td>\n      <td>18.0</td>\n      <td>13.0</td>\n      <td>23.0</td>\n      <td>1</td>\n      <td>3.0</td>\n      <td>2020</td>\n      <td>7</td>\n      <td>4</td>\n    </tr>\n    <tr>\n      <th>3</th>\n      <td>2020/7/5</td>\n      <td>38.0</td>\n      <td>NaN</td>\n      <td>12.0</td>\n      <td>NaN</td>\n      <td>,</td>\n      <td>NaN</td>\n      <td>2020</td>\n      <td>7</td>\n      <td>5</td>\n    </tr>\n    <tr>\n      <th>4</th>\n      <td>2020/7/8</td>\n      <td>61.0</td>\n      <td>40.0</td>\n      <td>NaN</td>\n      <td>19.0</td>\n      <td>NaN</td>\n      <td>3.0</td>\n      <td>2020</td>\n      <td>7</td>\n      <td>8</td>\n    </tr>\n    <tr>\n      <th>...</th>\n      <td>...</td>\n      <td>...</td>\n      <td>...</td>\n      <td>...</td>\n      <td>...</td>\n      <td>...</td>\n      <td>...</td>\n      <td>...</td>\n      <td>...</td>\n      <td>...</td>\n    </tr>\n    <tr>\n      <th>2024</th>\n      <td>2015/1/11</td>\n      <td>NaN</td>\n      <td>NaN</td>\n      <td>NaN</td>\n      <td>NaN</td>\n      <td>NaN</td>\n      <td>4.0</td>\n      <td>2015</td>\n      <td>1</td>\n      <td>11</td>\n    </tr>\n    <tr>\n      <th>2025</th>\n      <td>2015/2/8</td>\n      <td>NaN</td>\n      <td>NaN</td>\n      <td>NaN</td>\n      <td>NaN</td>\n      <td>NaN</td>\n      <td>1.0</td>\n      <td>2015</td>\n      <td>2</td>\n      <td>8</td>\n    </tr>\n    <tr>\n      <th>2026</th>\n      <td>2015/2/16</td>\n      <td>NaN</td>\n      <td>NaN</td>\n      <td>NaN</td>\n      <td>NaN</td>\n      <td>NaN</td>\n      <td>3.0</td>\n      <td>2015</td>\n      <td>2</td>\n      <td>16</td>\n    </tr>\n    <tr>\n      <th>2027</th>\n      <td>2015/3/5</td>\n      <td>NaN</td>\n      <td>NaN</td>\n      <td>NaN</td>\n      <td>NaN</td>\n      <td>NaN</td>\n      <td>6.0</td>\n      <td>2015</td>\n      <td>3</td>\n      <td>5</td>\n    </tr>\n    <tr>\n      <th>2028</th>\n      <td>2014/6/30</td>\n      <td>NaN</td>\n      <td>NaN</td>\n      <td>NaN</td>\n      <td>NaN</td>\n      <td>NaN</td>\n      <td>3.0</td>\n      <td>2014</td>\n      <td>6</td>\n      <td>30</td>\n    </tr>\n  </tbody>\n</table>\n<p>2029 rows × 10 columns</p>\n</div>"
     },
     "metadata": {},
     "execution_count": 8
    }
   ],
   "source": [
    "#split DF in year/month to sort\n",
    "MosAQIDF[[\"year\",\"month\",\"day\"]] = MosAQIDF[\"date\"].str.split(\"/\", n=2, expand=True)\n",
    "MosAQIDF"
   ]
  },
  {
   "cell_type": "code",
   "execution_count": 12,
   "metadata": {
    "tags": []
   },
   "outputs": [
    {
     "output_type": "execute_result",
     "data": {
      "text/plain": "           date  pm25  pm10    o3   no2  so2   co  year month day\n0      2020/7/2  43.0  34.0  15.0  19.0    1  2.0  2020     7   2\n1      2020/7/3  68.0  26.0  15.0  20.0  NaN  2.0  2020     7   3\n2      2020/7/4  60.0  18.0  13.0  23.0    1  3.0  2020     7   4\n3      2020/7/5  38.0   NaN  12.0   NaN    ,  NaN  2020     7   5\n4      2020/7/8  61.0  40.0   NaN  19.0  NaN  3.0  2020     7   8\n...         ...   ...   ...   ...   ...  ...  ...   ...   ...  ..\n2024  2015/1/11   NaN   NaN   NaN   NaN  NaN  4.0  2015     1  11\n2025   2015/2/8   NaN   NaN   NaN   NaN  NaN  1.0  2015     2   8\n2026  2015/2/16   NaN   NaN   NaN   NaN  NaN  3.0  2015     2  16\n2027   2015/3/5   NaN   NaN   NaN   NaN  NaN  6.0  2015     3   5\n2028  2014/6/30   NaN   NaN   NaN   NaN  NaN  3.0  2014     6  30\n\n[1257 rows x 10 columns]",
      "text/html": "<div>\n<style scoped>\n    .dataframe tbody tr th:only-of-type {\n        vertical-align: middle;\n    }\n\n    .dataframe tbody tr th {\n        vertical-align: top;\n    }\n\n    .dataframe thead th {\n        text-align: right;\n    }\n</style>\n<table border=\"1\" class=\"dataframe\">\n  <thead>\n    <tr style=\"text-align: right;\">\n      <th></th>\n      <th>date</th>\n      <th>pm25</th>\n      <th>pm10</th>\n      <th>o3</th>\n      <th>no2</th>\n      <th>so2</th>\n      <th>co</th>\n      <th>year</th>\n      <th>month</th>\n      <th>day</th>\n    </tr>\n  </thead>\n  <tbody>\n    <tr>\n      <th>0</th>\n      <td>2020/7/2</td>\n      <td>43.0</td>\n      <td>34.0</td>\n      <td>15.0</td>\n      <td>19.0</td>\n      <td>1</td>\n      <td>2.0</td>\n      <td>2020</td>\n      <td>7</td>\n      <td>2</td>\n    </tr>\n    <tr>\n      <th>1</th>\n      <td>2020/7/3</td>\n      <td>68.0</td>\n      <td>26.0</td>\n      <td>15.0</td>\n      <td>20.0</td>\n      <td>NaN</td>\n      <td>2.0</td>\n      <td>2020</td>\n      <td>7</td>\n      <td>3</td>\n    </tr>\n    <tr>\n      <th>2</th>\n      <td>2020/7/4</td>\n      <td>60.0</td>\n      <td>18.0</td>\n      <td>13.0</td>\n      <td>23.0</td>\n      <td>1</td>\n      <td>3.0</td>\n      <td>2020</td>\n      <td>7</td>\n      <td>4</td>\n    </tr>\n    <tr>\n      <th>3</th>\n      <td>2020/7/5</td>\n      <td>38.0</td>\n      <td>NaN</td>\n      <td>12.0</td>\n      <td>NaN</td>\n      <td>,</td>\n      <td>NaN</td>\n      <td>2020</td>\n      <td>7</td>\n      <td>5</td>\n    </tr>\n    <tr>\n      <th>4</th>\n      <td>2020/7/8</td>\n      <td>61.0</td>\n      <td>40.0</td>\n      <td>NaN</td>\n      <td>19.0</td>\n      <td>NaN</td>\n      <td>3.0</td>\n      <td>2020</td>\n      <td>7</td>\n      <td>8</td>\n    </tr>\n    <tr>\n      <th>...</th>\n      <td>...</td>\n      <td>...</td>\n      <td>...</td>\n      <td>...</td>\n      <td>...</td>\n      <td>...</td>\n      <td>...</td>\n      <td>...</td>\n      <td>...</td>\n      <td>...</td>\n    </tr>\n    <tr>\n      <th>2024</th>\n      <td>2015/1/11</td>\n      <td>NaN</td>\n      <td>NaN</td>\n      <td>NaN</td>\n      <td>NaN</td>\n      <td>NaN</td>\n      <td>4.0</td>\n      <td>2015</td>\n      <td>1</td>\n      <td>11</td>\n    </tr>\n    <tr>\n      <th>2025</th>\n      <td>2015/2/8</td>\n      <td>NaN</td>\n      <td>NaN</td>\n      <td>NaN</td>\n      <td>NaN</td>\n      <td>NaN</td>\n      <td>1.0</td>\n      <td>2015</td>\n      <td>2</td>\n      <td>8</td>\n    </tr>\n    <tr>\n      <th>2026</th>\n      <td>2015/2/16</td>\n      <td>NaN</td>\n      <td>NaN</td>\n      <td>NaN</td>\n      <td>NaN</td>\n      <td>NaN</td>\n      <td>3.0</td>\n      <td>2015</td>\n      <td>2</td>\n      <td>16</td>\n    </tr>\n    <tr>\n      <th>2027</th>\n      <td>2015/3/5</td>\n      <td>NaN</td>\n      <td>NaN</td>\n      <td>NaN</td>\n      <td>NaN</td>\n      <td>NaN</td>\n      <td>6.0</td>\n      <td>2015</td>\n      <td>3</td>\n      <td>5</td>\n    </tr>\n    <tr>\n      <th>2028</th>\n      <td>2014/6/30</td>\n      <td>NaN</td>\n      <td>NaN</td>\n      <td>NaN</td>\n      <td>NaN</td>\n      <td>NaN</td>\n      <td>3.0</td>\n      <td>2014</td>\n      <td>6</td>\n      <td>30</td>\n    </tr>\n  </tbody>\n</table>\n<p>1257 rows × 10 columns</p>\n</div>"
     },
     "metadata": {},
     "execution_count": 12
    }
   ],
   "source": [
    "#get rid of dates we're not looking for\n",
    "MosAQIDF[\"month\"] = MosAQIDF[\"month\"].astype(int)\n",
    "MosAQIDF[\"year\"] = MosAQIDF[\"year\"].astype(int)\n",
    "MosAQIDF = MosAQIDF[MosAQIDF[\"month\"] < 8]\n",
    "MosAQIDF"
   ]
  },
  {
   "cell_type": "code",
   "execution_count": 31,
   "metadata": {
    "tags": []
   },
   "outputs": [
    {
     "output_type": "execute_result",
     "data": {
      "text/plain": "             pm25        pm10          o3          no2           co  \\\ncount  405.000000  403.000000  140.000000  1181.000000  1183.000000   \nmean    49.481481   29.995037   18.442857    18.657917     3.654269   \nstd     19.292890   15.694851    8.003840     7.464935     1.778704   \nmin      9.000000    5.000000    1.000000     3.000000     1.000000   \n25%     35.000000   18.000000   14.000000    14.000000     2.000000   \n50%     48.000000   28.000000   19.000000    18.000000     3.000000   \n75%     61.000000   37.000000   23.250000    23.000000     5.000000   \nmax    139.000000  110.000000   49.000000    56.000000    15.000000   \n\n              year  \ncount  1257.000000  \nmean   2016.805887  \nstd       2.052774  \nmin    2014.000000  \n25%    2015.000000  \n50%    2017.000000  \n75%    2019.000000  \nmax    2020.000000  ",
      "text/html": "<div>\n<style scoped>\n    .dataframe tbody tr th:only-of-type {\n        vertical-align: middle;\n    }\n\n    .dataframe tbody tr th {\n        vertical-align: top;\n    }\n\n    .dataframe thead th {\n        text-align: right;\n    }\n</style>\n<table border=\"1\" class=\"dataframe\">\n  <thead>\n    <tr style=\"text-align: right;\">\n      <th></th>\n      <th>pm25</th>\n      <th>pm10</th>\n      <th>o3</th>\n      <th>no2</th>\n      <th>co</th>\n      <th>year</th>\n    </tr>\n  </thead>\n  <tbody>\n    <tr>\n      <th>count</th>\n      <td>405.000000</td>\n      <td>403.000000</td>\n      <td>140.000000</td>\n      <td>1181.000000</td>\n      <td>1183.000000</td>\n      <td>1257.000000</td>\n    </tr>\n    <tr>\n      <th>mean</th>\n      <td>49.481481</td>\n      <td>29.995037</td>\n      <td>18.442857</td>\n      <td>18.657917</td>\n      <td>3.654269</td>\n      <td>2016.805887</td>\n    </tr>\n    <tr>\n      <th>std</th>\n      <td>19.292890</td>\n      <td>15.694851</td>\n      <td>8.003840</td>\n      <td>7.464935</td>\n      <td>1.778704</td>\n      <td>2.052774</td>\n    </tr>\n    <tr>\n      <th>min</th>\n      <td>9.000000</td>\n      <td>5.000000</td>\n      <td>1.000000</td>\n      <td>3.000000</td>\n      <td>1.000000</td>\n      <td>2014.000000</td>\n    </tr>\n    <tr>\n      <th>25%</th>\n      <td>35.000000</td>\n      <td>18.000000</td>\n      <td>14.000000</td>\n      <td>14.000000</td>\n      <td>2.000000</td>\n      <td>2015.000000</td>\n    </tr>\n    <tr>\n      <th>50%</th>\n      <td>48.000000</td>\n      <td>28.000000</td>\n      <td>19.000000</td>\n      <td>18.000000</td>\n      <td>3.000000</td>\n      <td>2017.000000</td>\n    </tr>\n    <tr>\n      <th>75%</th>\n      <td>61.000000</td>\n      <td>37.000000</td>\n      <td>23.250000</td>\n      <td>23.000000</td>\n      <td>5.000000</td>\n      <td>2019.000000</td>\n    </tr>\n    <tr>\n      <th>max</th>\n      <td>139.000000</td>\n      <td>110.000000</td>\n      <td>49.000000</td>\n      <td>56.000000</td>\n      <td>15.000000</td>\n      <td>2020.000000</td>\n    </tr>\n  </tbody>\n</table>\n</div>"
     },
     "metadata": {},
     "execution_count": 31
    }
   ],
   "source": [
    "MosAQIDF.describe()"
   ]
  },
  {
   "cell_type": "code",
   "execution_count": 21,
   "metadata": {
    "tags": []
   },
   "outputs": [
    {
     "output_type": "stream",
     "name": "stdout",
     "text": "<class 'pandas.core.frame.DataFrame'>\nInt64Index: 209 entries, 730 to 2010\nData columns (total 10 columns):\n #   Column  Non-Null Count  Dtype  \n---  ------  --------------  -----  \n 0   date    209 non-null    object \n 1   pm25    0 non-null      float64\n 2   pm10    0 non-null      float64\n 3   o3      0 non-null      float64\n 4   no2     206 non-null    float64\n 5   so2     14 non-null     object \n 6   co      206 non-null    float64\n 7   year    209 non-null    int32  \n 8   month   209 non-null    object \n 9   day     209 non-null    object \ndtypes: float64(5), int32(1), object(4)\nmemory usage: 17.1+ KB\n"
    }
   ],
   "source": [
    "Mos2017AQIDF = MosAQIDF[MosAQIDF[\"year\"] == 2017]\n",
    "Mos2017AQIDF.info()"
   ]
  },
  {
   "cell_type": "code",
   "execution_count": 22,
   "metadata": {
    "tags": []
   },
   "outputs": [
    {
     "output_type": "stream",
     "name": "stdout",
     "text": "<class 'pandas.core.frame.DataFrame'>\nInt64Index: 58 entries, 574 to 729\nData columns (total 10 columns):\n #   Column  Non-Null Count  Dtype  \n---  ------  --------------  -----  \n 0   date    58 non-null     object \n 1   pm25    55 non-null     float64\n 2   pm10    56 non-null     float64\n 3   o3      0 non-null      float64\n 4   no2     57 non-null     float64\n 5   so2     10 non-null     object \n 6   co      56 non-null     float64\n 7   year    58 non-null     int32  \n 8   month   58 non-null     object \n 9   day     58 non-null     object \ndtypes: float64(5), int32(1), object(4)\nmemory usage: 4.8+ KB\n"
    }
   ],
   "source": [
    "Mos2018AQIDF = MosAQIDF[MosAQIDF[\"year\"] == 2018]\n",
    "Mos2018AQIDF.info()"
   ]
  },
  {
   "cell_type": "code",
   "execution_count": 23,
   "metadata": {},
   "outputs": [
    {
     "output_type": "execute_result",
     "data": {
      "text/plain": "7    31\n6    27\nName: month, dtype: int64"
     },
     "metadata": {},
     "execution_count": 23
    }
   ],
   "source": [
    "Mos2018AQIDF[\"month\"].value_counts()"
   ]
  },
  {
   "cell_type": "code",
   "execution_count": 24,
   "metadata": {
    "tags": []
   },
   "outputs": [
    {
     "output_type": "stream",
     "name": "stdout",
     "text": "<class 'pandas.core.frame.DataFrame'>\nInt64Index: 200 entries, 254 to 718\nData columns (total 10 columns):\n #   Column  Non-Null Count  Dtype  \n---  ------  --------------  -----  \n 0   date    200 non-null    object \n 1   pm25    179 non-null    float64\n 2   pm10    190 non-null    float64\n 3   o3      9 non-null      float64\n 4   no2     153 non-null    float64\n 5   so2     51 non-null     object \n 6   co      196 non-null    float64\n 7   year    200 non-null    int32  \n 8   month   200 non-null    object \n 9   day     200 non-null    object \ndtypes: float64(5), int32(1), object(4)\nmemory usage: 16.4+ KB\n"
    }
   ],
   "source": [
    "Mos2019AQIDF = MosAQIDF[MosAQIDF[\"year\"] == 2019]\n",
    "Mos2019AQIDF.info()"
   ]
  },
  {
   "cell_type": "code",
   "execution_count": 25,
   "metadata": {},
   "outputs": [
    {
     "output_type": "execute_result",
     "data": {
      "text/plain": "1    31\n5    31\n7    31\n4    30\n6    30\n2    28\n3    19\nName: month, dtype: int64"
     },
     "metadata": {},
     "execution_count": 25
    }
   ],
   "source": [
    "Mos2019AQIDF[\"month\"].value_counts()"
   ]
  },
  {
   "cell_type": "code",
   "execution_count": 26,
   "metadata": {
    "tags": []
   },
   "outputs": [
    {
     "output_type": "stream",
     "name": "stdout",
     "text": "<class 'pandas.core.frame.DataFrame'>\nInt64Index: 177 entries, 0 to 722\nData columns (total 10 columns):\n #   Column  Non-Null Count  Dtype  \n---  ------  --------------  -----  \n 0   date    177 non-null    object \n 1   pm25    171 non-null    float64\n 2   pm10    157 non-null    float64\n 3   o3      131 non-null    float64\n 4   no2     170 non-null    float64\n 5   so2     67 non-null     object \n 6   co      123 non-null    float64\n 7   year    177 non-null    int32  \n 8   month   177 non-null    object \n 9   day     177 non-null    object \ndtypes: float64(5), int32(1), object(4)\nmemory usage: 14.5+ KB\n"
    }
   ],
   "source": [
    "Mos2020AQIDF = MosAQIDF[MosAQIDF[\"year\"] == 2020]\n",
    "Mos2020AQIDF.info()"
   ]
  },
  {
   "cell_type": "code",
   "execution_count": 28,
   "metadata": {},
   "outputs": [
    {
     "output_type": "execute_result",
     "data": {
      "text/plain": "1    31\n6    30\n2    29\n4    28\n7    25\n5    23\n3    11\nName: month, dtype: int64"
     },
     "metadata": {},
     "execution_count": 28
    }
   ],
   "source": [
    "Mos2020AQIDF[\"month\"].value_counts()"
   ]
  },
  {
   "cell_type": "code",
   "execution_count": 30,
   "metadata": {
    "tags": []
   },
   "outputs": [
    {
     "output_type": "stream",
     "name": "stdout",
     "text": "<class 'pandas.core.frame.DataFrame'>\nInt64Index: 204 entries, 1400 to 2027\nData columns (total 10 columns):\n #   Column  Non-Null Count  Dtype  \n---  ------  --------------  -----  \n 0   date    204 non-null    object \n 1   pm25    0 non-null      float64\n 2   pm10    0 non-null      float64\n 3   o3      0 non-null      float64\n 4   no2     192 non-null    float64\n 5   so2     7 non-null      object \n 6   co      197 non-null    float64\n 7   year    204 non-null    int32  \n 8   month   204 non-null    object \n 9   day     204 non-null    object \ndtypes: float64(5), int32(1), object(4)\nmemory usage: 16.7+ KB\n"
    }
   ],
   "source": []
  },
  {
   "cell_type": "code",
   "execution_count": null,
   "metadata": {},
   "outputs": [],
   "source": []
  }
 ]
}